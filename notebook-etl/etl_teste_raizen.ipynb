{
  "nbformat": 4,
  "nbformat_minor": 0,
  "metadata": {
    "colab": {
      "provenance": []
    },
    "kernelspec": {
      "name": "python3",
      "display_name": "Python 3"
    },
    "language_info": {
      "name": "python"
    }
  },
  "cells": [
    {
      "cell_type": "code",
      "execution_count": 1,
      "metadata": {
        "id": "N3RYWDukgsQt"
      },
      "outputs": [],
      "source": [
        "import pandas as pd\n",
        "import datetime as dt\n",
        "from datetime import datetime\n",
        "from pandas import Timestamp\n",
        "import time"
      ]
    },
    {
      "cell_type": "code",
      "source": [
        "dfDiesel = pd.read_csv('https://www.gov.br/anp/pt-br/centrais-de-conteudo/dados-abertos/arquivos/vdpb/vct/vendas-oleo-diesel-tipo-m3-2013-2022.csv',sep=';')\n",
        "dfDiesel.dtypes"
      ],
      "metadata": {
        "colab": {
          "base_uri": "https://localhost:8080/"
        },
        "id": "YcEOpMx-LFFQ",
        "outputId": "9f2c952e-ba31-4259-eb55-6a707276fd49"
      },
      "execution_count": 2,
      "outputs": [
        {
          "output_type": "execute_result",
          "data": {
            "text/plain": [
              "ANO                      int64\n",
              "MÊS                     object\n",
              "GRANDE REGIÃO           object\n",
              "UNIDADE DA FEDERAÇÃO    object\n",
              "PRODUTO                 object\n",
              "VENDAS                  object\n",
              "dtype: object"
            ]
          },
          "metadata": {},
          "execution_count": 2
        }
      ]
    },
    {
      "cell_type": "code",
      "source": [
        "dfPetroleo = pd.read_csv('https://www.gov.br/anp/pt-br/centrais-de-conteudo/dados-abertos/arquivos/vdpb/vendas-derivados-petroleo-e-etanol/vendas-derivados-petroleo-etanol-m3-1990-2022.csv',sep=';' )\n",
        "dfPetroleo.dtypes\n",
        "\n"
      ],
      "metadata": {
        "id": "JYgHm1gaaxq5",
        "colab": {
          "base_uri": "https://localhost:8080/"
        },
        "outputId": "885ca4bb-6bf9-44e0-f317-fb4c39050a84"
      },
      "execution_count": 14,
      "outputs": [
        {
          "output_type": "execute_result",
          "data": {
            "text/plain": [
              "ANO                      int64\n",
              "MÊS                     object\n",
              "GRANDE REGIÃO           object\n",
              "UNIDADE DA FEDERAÇÃO    object\n",
              "PRODUTO                 object\n",
              "VENDAS                  object\n",
              "dtype: object"
            ]
          },
          "metadata": {},
          "execution_count": 14
        }
      ]
    },
    {
      "cell_type": "code",
      "source": [
        "dfPetroleo['unit'] = '(m3)'\n",
        "dfPetroleo['MÊS'].replace(['JAN', 'FEV', 'MAR', 'ABR', 'MAI', 'JUN', 'JUL', 'AGO', 'SET', 'OUT', 'NOV', 'DEZ'],\n",
        "                          ['01', '02', '03', '04', '05', '06', '07', '08', '09', '10', '11', '12'], inplace=True)\n",
        "dfPetroleo.drop(['GRANDE REGIÃO'],axis=1,inplace=True)\n",
        "dfPetroleo.rename(columns={\"UNIDADE DA FEDERAÇÃO\": \"uf\", \"PRODUTO\": \"product\", \"VENDAS\": \"volume\" }, inplace=True)"
      ],
      "metadata": {
        "id": "FUkbu3sGcpLn"
      },
      "execution_count": 15,
      "outputs": []
    },
    {
      "cell_type": "code",
      "source": [
        "dfPetroleo['year_month'] = dfPetroleo['ANO'].map(str) + '-' + dfPetroleo['MÊS'].map(str)\n",
        "dfPetroleo.drop(['ANO', 'MÊS'],axis=1,inplace=True)\n"
      ],
      "metadata": {
        "id": "HzY1GHDslX4o"
      },
      "execution_count": 16,
      "outputs": []
    },
    {
      "cell_type": "code",
      "source": [
        "dfPetroleo['created_at'] = dt.datetime.now()"
      ],
      "metadata": {
        "id": "b4SrtuyXnftS"
      },
      "execution_count": 17,
      "outputs": []
    },
    {
      "cell_type": "code",
      "source": [
        "dfPetroleo = dfPetroleo[['year_month', 'uf', 'product', 'unit', 'volume', 'created_at']]\n",
        "dfPetroleo.head()"
      ],
      "metadata": {
        "colab": {
          "base_uri": "https://localhost:8080/",
          "height": 206
        },
        "id": "QDr1yH0lmyMv",
        "outputId": "322cd3ff-4b19-4b36-9a6d-7dc0529c9aa9"
      },
      "execution_count": 20,
      "outputs": [
        {
          "output_type": "execute_result",
          "data": {
            "text/plain": [
              "  year_month            uf           product  unit      volume  \\\n",
              "0    1999-11  MINAS GERAIS  ETANOL HIDRATADO  (m3)   43356,352   \n",
              "1    1999-02     SÃO PAULO  ETANOL HIDRATADO  (m3)  202406,862   \n",
              "2    1999-09       SERGIPE  ETANOL HIDRATADO  (m3)    2744,883   \n",
              "3    1999-08       SERGIPE  ETANOL HIDRATADO  (m3)    2661,218   \n",
              "4    1999-05     SÃO PAULO  ETANOL HIDRATADO  (m3)  249336,184   \n",
              "\n",
              "                  created_at  \n",
              "0 2022-09-13 00:16:59.913970  \n",
              "1 2022-09-13 00:16:59.913970  \n",
              "2 2022-09-13 00:16:59.913970  \n",
              "3 2022-09-13 00:16:59.913970  \n",
              "4 2022-09-13 00:16:59.913970  "
            ],
            "text/html": [
              "\n",
              "  <div id=\"df-224c4c6e-3ed6-400b-9056-d23f14cd6b3f\">\n",
              "    <div class=\"colab-df-container\">\n",
              "      <div>\n",
              "<style scoped>\n",
              "    .dataframe tbody tr th:only-of-type {\n",
              "        vertical-align: middle;\n",
              "    }\n",
              "\n",
              "    .dataframe tbody tr th {\n",
              "        vertical-align: top;\n",
              "    }\n",
              "\n",
              "    .dataframe thead th {\n",
              "        text-align: right;\n",
              "    }\n",
              "</style>\n",
              "<table border=\"1\" class=\"dataframe\">\n",
              "  <thead>\n",
              "    <tr style=\"text-align: right;\">\n",
              "      <th></th>\n",
              "      <th>year_month</th>\n",
              "      <th>uf</th>\n",
              "      <th>product</th>\n",
              "      <th>unit</th>\n",
              "      <th>volume</th>\n",
              "      <th>created_at</th>\n",
              "    </tr>\n",
              "  </thead>\n",
              "  <tbody>\n",
              "    <tr>\n",
              "      <th>0</th>\n",
              "      <td>1999-11</td>\n",
              "      <td>MINAS GERAIS</td>\n",
              "      <td>ETANOL HIDRATADO</td>\n",
              "      <td>(m3)</td>\n",
              "      <td>43356,352</td>\n",
              "      <td>2022-09-13 00:16:59.913970</td>\n",
              "    </tr>\n",
              "    <tr>\n",
              "      <th>1</th>\n",
              "      <td>1999-02</td>\n",
              "      <td>SÃO PAULO</td>\n",
              "      <td>ETANOL HIDRATADO</td>\n",
              "      <td>(m3)</td>\n",
              "      <td>202406,862</td>\n",
              "      <td>2022-09-13 00:16:59.913970</td>\n",
              "    </tr>\n",
              "    <tr>\n",
              "      <th>2</th>\n",
              "      <td>1999-09</td>\n",
              "      <td>SERGIPE</td>\n",
              "      <td>ETANOL HIDRATADO</td>\n",
              "      <td>(m3)</td>\n",
              "      <td>2744,883</td>\n",
              "      <td>2022-09-13 00:16:59.913970</td>\n",
              "    </tr>\n",
              "    <tr>\n",
              "      <th>3</th>\n",
              "      <td>1999-08</td>\n",
              "      <td>SERGIPE</td>\n",
              "      <td>ETANOL HIDRATADO</td>\n",
              "      <td>(m3)</td>\n",
              "      <td>2661,218</td>\n",
              "      <td>2022-09-13 00:16:59.913970</td>\n",
              "    </tr>\n",
              "    <tr>\n",
              "      <th>4</th>\n",
              "      <td>1999-05</td>\n",
              "      <td>SÃO PAULO</td>\n",
              "      <td>ETANOL HIDRATADO</td>\n",
              "      <td>(m3)</td>\n",
              "      <td>249336,184</td>\n",
              "      <td>2022-09-13 00:16:59.913970</td>\n",
              "    </tr>\n",
              "  </tbody>\n",
              "</table>\n",
              "</div>\n",
              "      <button class=\"colab-df-convert\" onclick=\"convertToInteractive('df-224c4c6e-3ed6-400b-9056-d23f14cd6b3f')\"\n",
              "              title=\"Convert this dataframe to an interactive table.\"\n",
              "              style=\"display:none;\">\n",
              "        \n",
              "  <svg xmlns=\"http://www.w3.org/2000/svg\" height=\"24px\"viewBox=\"0 0 24 24\"\n",
              "       width=\"24px\">\n",
              "    <path d=\"M0 0h24v24H0V0z\" fill=\"none\"/>\n",
              "    <path d=\"M18.56 5.44l.94 2.06.94-2.06 2.06-.94-2.06-.94-.94-2.06-.94 2.06-2.06.94zm-11 1L8.5 8.5l.94-2.06 2.06-.94-2.06-.94L8.5 2.5l-.94 2.06-2.06.94zm10 10l.94 2.06.94-2.06 2.06-.94-2.06-.94-.94-2.06-.94 2.06-2.06.94z\"/><path d=\"M17.41 7.96l-1.37-1.37c-.4-.4-.92-.59-1.43-.59-.52 0-1.04.2-1.43.59L10.3 9.45l-7.72 7.72c-.78.78-.78 2.05 0 2.83L4 21.41c.39.39.9.59 1.41.59.51 0 1.02-.2 1.41-.59l7.78-7.78 2.81-2.81c.8-.78.8-2.07 0-2.86zM5.41 20L4 18.59l7.72-7.72 1.47 1.35L5.41 20z\"/>\n",
              "  </svg>\n",
              "      </button>\n",
              "      \n",
              "  <style>\n",
              "    .colab-df-container {\n",
              "      display:flex;\n",
              "      flex-wrap:wrap;\n",
              "      gap: 12px;\n",
              "    }\n",
              "\n",
              "    .colab-df-convert {\n",
              "      background-color: #E8F0FE;\n",
              "      border: none;\n",
              "      border-radius: 50%;\n",
              "      cursor: pointer;\n",
              "      display: none;\n",
              "      fill: #1967D2;\n",
              "      height: 32px;\n",
              "      padding: 0 0 0 0;\n",
              "      width: 32px;\n",
              "    }\n",
              "\n",
              "    .colab-df-convert:hover {\n",
              "      background-color: #E2EBFA;\n",
              "      box-shadow: 0px 1px 2px rgba(60, 64, 67, 0.3), 0px 1px 3px 1px rgba(60, 64, 67, 0.15);\n",
              "      fill: #174EA6;\n",
              "    }\n",
              "\n",
              "    [theme=dark] .colab-df-convert {\n",
              "      background-color: #3B4455;\n",
              "      fill: #D2E3FC;\n",
              "    }\n",
              "\n",
              "    [theme=dark] .colab-df-convert:hover {\n",
              "      background-color: #434B5C;\n",
              "      box-shadow: 0px 1px 3px 1px rgba(0, 0, 0, 0.15);\n",
              "      filter: drop-shadow(0px 1px 2px rgba(0, 0, 0, 0.3));\n",
              "      fill: #FFFFFF;\n",
              "    }\n",
              "  </style>\n",
              "\n",
              "      <script>\n",
              "        const buttonEl =\n",
              "          document.querySelector('#df-224c4c6e-3ed6-400b-9056-d23f14cd6b3f button.colab-df-convert');\n",
              "        buttonEl.style.display =\n",
              "          google.colab.kernel.accessAllowed ? 'block' : 'none';\n",
              "\n",
              "        async function convertToInteractive(key) {\n",
              "          const element = document.querySelector('#df-224c4c6e-3ed6-400b-9056-d23f14cd6b3f');\n",
              "          const dataTable =\n",
              "            await google.colab.kernel.invokeFunction('convertToInteractive',\n",
              "                                                     [key], {});\n",
              "          if (!dataTable) return;\n",
              "\n",
              "          const docLinkHtml = 'Like what you see? Visit the ' +\n",
              "            '<a target=\"_blank\" href=https://colab.research.google.com/notebooks/data_table.ipynb>data table notebook</a>'\n",
              "            + ' to learn more about interactive tables.';\n",
              "          element.innerHTML = '';\n",
              "          dataTable['output_type'] = 'display_data';\n",
              "          await google.colab.output.renderOutput(dataTable, element);\n",
              "          const docLink = document.createElement('div');\n",
              "          docLink.innerHTML = docLinkHtml;\n",
              "          element.appendChild(docLink);\n",
              "        }\n",
              "      </script>\n",
              "    </div>\n",
              "  </div>\n",
              "  "
            ]
          },
          "metadata": {},
          "execution_count": 20
        }
      ]
    },
    {
      "cell_type": "code",
      "source": [
        "dfDiesel['year_month'] = pd.to_datetime(dfDiesel['year_month'])"
      ],
      "metadata": {
        "id": "Cnua2hQnn775"
      },
      "execution_count": 8,
      "outputs": []
    },
    {
      "cell_type": "code",
      "source": [
        "dfDiesel['volume'] = dfDiesel['volume'].str.replace(\",\",\".\")\n",
        "dfDiesel['volume'] = dfDiesel['volume'].astype(float)"
      ],
      "metadata": {
        "id": "pURVyW-to5lh"
      },
      "execution_count": 9,
      "outputs": []
    },
    {
      "cell_type": "code",
      "source": [
        "dfDiesel.dtypes\n"
      ],
      "metadata": {
        "colab": {
          "base_uri": "https://localhost:8080/"
        },
        "id": "Ce4eGKI8n7Ch",
        "outputId": "9d79cbbd-d412-4c1b-f5c5-e892807d0a97"
      },
      "execution_count": 10,
      "outputs": [
        {
          "output_type": "execute_result",
          "data": {
            "text/plain": [
              "year_month    datetime64[ns]\n",
              "uf                    object\n",
              "product               object\n",
              "unit                  object\n",
              "volume               float64\n",
              "created_at    datetime64[ns]\n",
              "dtype: object"
            ]
          },
          "metadata": {},
          "execution_count": 10
        }
      ]
    },
    {
      "cell_type": "code",
      "source": [
        "dfPetroleo.shape[0]"
      ],
      "metadata": {
        "colab": {
          "base_uri": "https://localhost:8080/"
        },
        "id": "jRj9VLE5pyxm",
        "outputId": "b4087449-c342-4747-ec7e-491a72a97e8c"
      },
      "execution_count": 11,
      "outputs": [
        {
          "output_type": "execute_result",
          "data": {
            "text/plain": [
              "15390"
            ]
          },
          "metadata": {},
          "execution_count": 11
        }
      ]
    },
    {
      "cell_type": "code",
      "source": [
        "dfDiesel.head()"
      ],
      "metadata": {
        "colab": {
          "base_uri": "https://localhost:8080/",
          "height": 206
        },
        "id": "kOq9icqTsnLE",
        "outputId": "f32c22e2-d344-4988-fae6-3f7b53330f9d"
      },
      "execution_count": 12,
      "outputs": [
        {
          "output_type": "execute_result",
          "data": {
            "text/plain": [
              "  year_month        uf           product  unit   volume  \\\n",
              "0 2013-01-01  RONDÔNIA  ÓLEO DIESEL S-10  (m3)  3517.60   \n",
              "1 2013-02-01  RONDÔNIA  ÓLEO DIESEL S-10  (m3)  3681.70   \n",
              "2 2013-03-01  RONDÔNIA  ÓLEO DIESEL S-10  (m3)  4700.67   \n",
              "3 2013-04-01  RONDÔNIA  ÓLEO DIESEL S-10  (m3)  5339.20   \n",
              "4 2013-05-01  RONDÔNIA  ÓLEO DIESEL S-10  (m3)  6166.40   \n",
              "\n",
              "                  created_at  \n",
              "0 2022-09-13 00:10:56.013071  \n",
              "1 2022-09-13 00:10:56.013071  \n",
              "2 2022-09-13 00:10:56.013071  \n",
              "3 2022-09-13 00:10:56.013071  \n",
              "4 2022-09-13 00:10:56.013071  "
            ],
            "text/html": [
              "\n",
              "  <div id=\"df-21ca743e-b03e-4917-b486-d0b0e38fa543\">\n",
              "    <div class=\"colab-df-container\">\n",
              "      <div>\n",
              "<style scoped>\n",
              "    .dataframe tbody tr th:only-of-type {\n",
              "        vertical-align: middle;\n",
              "    }\n",
              "\n",
              "    .dataframe tbody tr th {\n",
              "        vertical-align: top;\n",
              "    }\n",
              "\n",
              "    .dataframe thead th {\n",
              "        text-align: right;\n",
              "    }\n",
              "</style>\n",
              "<table border=\"1\" class=\"dataframe\">\n",
              "  <thead>\n",
              "    <tr style=\"text-align: right;\">\n",
              "      <th></th>\n",
              "      <th>year_month</th>\n",
              "      <th>uf</th>\n",
              "      <th>product</th>\n",
              "      <th>unit</th>\n",
              "      <th>volume</th>\n",
              "      <th>created_at</th>\n",
              "    </tr>\n",
              "  </thead>\n",
              "  <tbody>\n",
              "    <tr>\n",
              "      <th>0</th>\n",
              "      <td>2013-01-01</td>\n",
              "      <td>RONDÔNIA</td>\n",
              "      <td>ÓLEO DIESEL S-10</td>\n",
              "      <td>(m3)</td>\n",
              "      <td>3517.60</td>\n",
              "      <td>2022-09-13 00:10:56.013071</td>\n",
              "    </tr>\n",
              "    <tr>\n",
              "      <th>1</th>\n",
              "      <td>2013-02-01</td>\n",
              "      <td>RONDÔNIA</td>\n",
              "      <td>ÓLEO DIESEL S-10</td>\n",
              "      <td>(m3)</td>\n",
              "      <td>3681.70</td>\n",
              "      <td>2022-09-13 00:10:56.013071</td>\n",
              "    </tr>\n",
              "    <tr>\n",
              "      <th>2</th>\n",
              "      <td>2013-03-01</td>\n",
              "      <td>RONDÔNIA</td>\n",
              "      <td>ÓLEO DIESEL S-10</td>\n",
              "      <td>(m3)</td>\n",
              "      <td>4700.67</td>\n",
              "      <td>2022-09-13 00:10:56.013071</td>\n",
              "    </tr>\n",
              "    <tr>\n",
              "      <th>3</th>\n",
              "      <td>2013-04-01</td>\n",
              "      <td>RONDÔNIA</td>\n",
              "      <td>ÓLEO DIESEL S-10</td>\n",
              "      <td>(m3)</td>\n",
              "      <td>5339.20</td>\n",
              "      <td>2022-09-13 00:10:56.013071</td>\n",
              "    </tr>\n",
              "    <tr>\n",
              "      <th>4</th>\n",
              "      <td>2013-05-01</td>\n",
              "      <td>RONDÔNIA</td>\n",
              "      <td>ÓLEO DIESEL S-10</td>\n",
              "      <td>(m3)</td>\n",
              "      <td>6166.40</td>\n",
              "      <td>2022-09-13 00:10:56.013071</td>\n",
              "    </tr>\n",
              "  </tbody>\n",
              "</table>\n",
              "</div>\n",
              "      <button class=\"colab-df-convert\" onclick=\"convertToInteractive('df-21ca743e-b03e-4917-b486-d0b0e38fa543')\"\n",
              "              title=\"Convert this dataframe to an interactive table.\"\n",
              "              style=\"display:none;\">\n",
              "        \n",
              "  <svg xmlns=\"http://www.w3.org/2000/svg\" height=\"24px\"viewBox=\"0 0 24 24\"\n",
              "       width=\"24px\">\n",
              "    <path d=\"M0 0h24v24H0V0z\" fill=\"none\"/>\n",
              "    <path d=\"M18.56 5.44l.94 2.06.94-2.06 2.06-.94-2.06-.94-.94-2.06-.94 2.06-2.06.94zm-11 1L8.5 8.5l.94-2.06 2.06-.94-2.06-.94L8.5 2.5l-.94 2.06-2.06.94zm10 10l.94 2.06.94-2.06 2.06-.94-2.06-.94-.94-2.06-.94 2.06-2.06.94z\"/><path d=\"M17.41 7.96l-1.37-1.37c-.4-.4-.92-.59-1.43-.59-.52 0-1.04.2-1.43.59L10.3 9.45l-7.72 7.72c-.78.78-.78 2.05 0 2.83L4 21.41c.39.39.9.59 1.41.59.51 0 1.02-.2 1.41-.59l7.78-7.78 2.81-2.81c.8-.78.8-2.07 0-2.86zM5.41 20L4 18.59l7.72-7.72 1.47 1.35L5.41 20z\"/>\n",
              "  </svg>\n",
              "      </button>\n",
              "      \n",
              "  <style>\n",
              "    .colab-df-container {\n",
              "      display:flex;\n",
              "      flex-wrap:wrap;\n",
              "      gap: 12px;\n",
              "    }\n",
              "\n",
              "    .colab-df-convert {\n",
              "      background-color: #E8F0FE;\n",
              "      border: none;\n",
              "      border-radius: 50%;\n",
              "      cursor: pointer;\n",
              "      display: none;\n",
              "      fill: #1967D2;\n",
              "      height: 32px;\n",
              "      padding: 0 0 0 0;\n",
              "      width: 32px;\n",
              "    }\n",
              "\n",
              "    .colab-df-convert:hover {\n",
              "      background-color: #E2EBFA;\n",
              "      box-shadow: 0px 1px 2px rgba(60, 64, 67, 0.3), 0px 1px 3px 1px rgba(60, 64, 67, 0.15);\n",
              "      fill: #174EA6;\n",
              "    }\n",
              "\n",
              "    [theme=dark] .colab-df-convert {\n",
              "      background-color: #3B4455;\n",
              "      fill: #D2E3FC;\n",
              "    }\n",
              "\n",
              "    [theme=dark] .colab-df-convert:hover {\n",
              "      background-color: #434B5C;\n",
              "      box-shadow: 0px 1px 3px 1px rgba(0, 0, 0, 0.15);\n",
              "      filter: drop-shadow(0px 1px 2px rgba(0, 0, 0, 0.3));\n",
              "      fill: #FFFFFF;\n",
              "    }\n",
              "  </style>\n",
              "\n",
              "      <script>\n",
              "        const buttonEl =\n",
              "          document.querySelector('#df-21ca743e-b03e-4917-b486-d0b0e38fa543 button.colab-df-convert');\n",
              "        buttonEl.style.display =\n",
              "          google.colab.kernel.accessAllowed ? 'block' : 'none';\n",
              "\n",
              "        async function convertToInteractive(key) {\n",
              "          const element = document.querySelector('#df-21ca743e-b03e-4917-b486-d0b0e38fa543');\n",
              "          const dataTable =\n",
              "            await google.colab.kernel.invokeFunction('convertToInteractive',\n",
              "                                                     [key], {});\n",
              "          if (!dataTable) return;\n",
              "\n",
              "          const docLinkHtml = 'Like what you see? Visit the ' +\n",
              "            '<a target=\"_blank\" href=https://colab.research.google.com/notebooks/data_table.ipynb>data table notebook</a>'\n",
              "            + ' to learn more about interactive tables.';\n",
              "          element.innerHTML = '';\n",
              "          dataTable['output_type'] = 'display_data';\n",
              "          await google.colab.output.renderOutput(dataTable, element);\n",
              "          const docLink = document.createElement('div');\n",
              "          docLink.innerHTML = docLinkHtml;\n",
              "          element.appendChild(docLink);\n",
              "        }\n",
              "      </script>\n",
              "    </div>\n",
              "  </div>\n",
              "  "
            ]
          },
          "metadata": {},
          "execution_count": 12
        }
      ]
    },
    {
      "cell_type": "code",
      "source": [
        "dfPetroleo['product'].unique()"
      ],
      "metadata": {
        "colab": {
          "base_uri": "https://localhost:8080/"
        },
        "id": "l98Qfgq6sq-3",
        "outputId": "93f2501c-3c14-4c1c-c1ff-d24e5cc364d1"
      },
      "execution_count": null,
      "outputs": [
        {
          "output_type": "execute_result",
          "data": {
            "text/plain": [
              "array(['GASOLINA C', 'GASOLINA DE AVIAÇÃO', 'GLP', 'QUEROSENE DE AVIAÇÃO',\n",
              "       'QUEROSENE ILUMINANTE', 'ÓLEO COMBUSTÍVEL', 'ÓLEO DIESEL'],\n",
              "      dtype=object)"
            ]
          },
          "metadata": {},
          "execution_count": 59
        }
      ]
    },
    {
      "cell_type": "code",
      "source": [],
      "metadata": {
        "id": "iujMYlsCsxdj"
      },
      "execution_count": null,
      "outputs": []
    }
  ]
}